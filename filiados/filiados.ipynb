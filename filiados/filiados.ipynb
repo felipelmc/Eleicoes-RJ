{
 "cells": [
  {
   "cell_type": "code",
   "execution_count": 101,
   "metadata": {},
   "outputs": [],
   "source": [
    "import pandas as pd\n",
    "import basedosdados as bd\n",
    "import plotly.express as px"
   ]
  },
  {
   "cell_type": "code",
   "execution_count": 102,
   "metadata": {},
   "outputs": [
    {
     "name": "stderr",
     "output_type": "stream",
     "text": [
      "Downloading: 100%|██████████| 445923/445923 [00:36<00:00, 12244.59rows/s]\n"
     ]
    }
   ],
   "source": [
    "query = \"\"\"\n",
    "SELECT DISTINCT id_municipio, titulo_eleitoral, sigla_partido, data_filiacao, data_desfiliacao, motivo_cancelamento\n",
    "FROM basedosdados.br_tse_filiacao_partidaria.microdados\n",
    "WHERE id_municipio = '3304557'\n",
    "\"\"\"\n",
    "\n",
    "filiados = bd.read_sql(query, billing_project_id=\"diamundialdainfancia\")"
   ]
  },
  {
   "cell_type": "code",
   "execution_count": 120,
   "metadata": {},
   "outputs": [],
   "source": [
    "filiados['data_filiacao'] = filiados['data_filiacao'].astype(str)\n",
    "filiados['data_desfiliacao'] = filiados['data_desfiliacao'].astype(str)"
   ]
  },
  {
   "cell_type": "code",
   "execution_count": 164,
   "metadata": {},
   "outputs": [
    {
     "data": {
      "application/vnd.plotly.v1+json": {
       "config": {
        "plotlyServerURL": "https://plot.ly"
       },
       "data": [
        {
         "alignmentgroup": "True",
         "hovertemplate": "=%{text}<extra></extra>",
         "legendgroup": "",
         "marker": {
          "color": "rgb(67,133,197)",
          "pattern": {
           "shape": ""
          }
         },
         "name": "",
         "offsetgroup": "",
         "orientation": "h",
         "showlegend": false,
         "text": [
          2.13,
          2.35,
          2.38,
          3.25,
          3.48,
          4.56,
          5.22,
          11.56,
          11.73,
          28.85
         ],
         "textfont": {
          "color": "black",
          "size": 15
         },
         "textposition": "outside",
         "texttemplate": "%{text:}%",
         "type": "bar",
         "x": [
          2.13,
          2.35,
          2.38,
          3.25,
          3.48,
          4.56,
          5.22,
          11.56,
          11.73,
          28.85
         ],
         "xaxis": "x",
         "y": [
          "DEM",
          "REPUBLICANOS",
          "UP",
          "NOVO",
          "SOLIDARIEDADE",
          "CIDADANIA",
          "PDT",
          "PSOL",
          "PT",
          "PSL"
         ],
         "yaxis": "y"
        }
       ],
       "layout": {
        "barmode": "group",
        "height": 500,
        "legend": {
         "tracegroupgap": 0
        },
        "margin": {
         "t": 60
        },
        "paper_bgcolor": "white",
        "plot_bgcolor": "white",
        "template": {
         "data": {
          "bar": [
           {
            "error_x": {
             "color": "#2a3f5f"
            },
            "error_y": {
             "color": "#2a3f5f"
            },
            "marker": {
             "line": {
              "color": "#E5ECF6",
              "width": 0.5
             },
             "pattern": {
              "fillmode": "overlay",
              "size": 10,
              "solidity": 0.2
             }
            },
            "type": "bar"
           }
          ],
          "barpolar": [
           {
            "marker": {
             "line": {
              "color": "#E5ECF6",
              "width": 0.5
             },
             "pattern": {
              "fillmode": "overlay",
              "size": 10,
              "solidity": 0.2
             }
            },
            "type": "barpolar"
           }
          ],
          "carpet": [
           {
            "aaxis": {
             "endlinecolor": "#2a3f5f",
             "gridcolor": "white",
             "linecolor": "white",
             "minorgridcolor": "white",
             "startlinecolor": "#2a3f5f"
            },
            "baxis": {
             "endlinecolor": "#2a3f5f",
             "gridcolor": "white",
             "linecolor": "white",
             "minorgridcolor": "white",
             "startlinecolor": "#2a3f5f"
            },
            "type": "carpet"
           }
          ],
          "choropleth": [
           {
            "colorbar": {
             "outlinewidth": 0,
             "ticks": ""
            },
            "type": "choropleth"
           }
          ],
          "contour": [
           {
            "colorbar": {
             "outlinewidth": 0,
             "ticks": ""
            },
            "colorscale": [
             [
              0,
              "#0d0887"
             ],
             [
              0.1111111111111111,
              "#46039f"
             ],
             [
              0.2222222222222222,
              "#7201a8"
             ],
             [
              0.3333333333333333,
              "#9c179e"
             ],
             [
              0.4444444444444444,
              "#bd3786"
             ],
             [
              0.5555555555555556,
              "#d8576b"
             ],
             [
              0.6666666666666666,
              "#ed7953"
             ],
             [
              0.7777777777777778,
              "#fb9f3a"
             ],
             [
              0.8888888888888888,
              "#fdca26"
             ],
             [
              1,
              "#f0f921"
             ]
            ],
            "type": "contour"
           }
          ],
          "contourcarpet": [
           {
            "colorbar": {
             "outlinewidth": 0,
             "ticks": ""
            },
            "type": "contourcarpet"
           }
          ],
          "heatmap": [
           {
            "colorbar": {
             "outlinewidth": 0,
             "ticks": ""
            },
            "colorscale": [
             [
              0,
              "#0d0887"
             ],
             [
              0.1111111111111111,
              "#46039f"
             ],
             [
              0.2222222222222222,
              "#7201a8"
             ],
             [
              0.3333333333333333,
              "#9c179e"
             ],
             [
              0.4444444444444444,
              "#bd3786"
             ],
             [
              0.5555555555555556,
              "#d8576b"
             ],
             [
              0.6666666666666666,
              "#ed7953"
             ],
             [
              0.7777777777777778,
              "#fb9f3a"
             ],
             [
              0.8888888888888888,
              "#fdca26"
             ],
             [
              1,
              "#f0f921"
             ]
            ],
            "type": "heatmap"
           }
          ],
          "heatmapgl": [
           {
            "colorbar": {
             "outlinewidth": 0,
             "ticks": ""
            },
            "colorscale": [
             [
              0,
              "#0d0887"
             ],
             [
              0.1111111111111111,
              "#46039f"
             ],
             [
              0.2222222222222222,
              "#7201a8"
             ],
             [
              0.3333333333333333,
              "#9c179e"
             ],
             [
              0.4444444444444444,
              "#bd3786"
             ],
             [
              0.5555555555555556,
              "#d8576b"
             ],
             [
              0.6666666666666666,
              "#ed7953"
             ],
             [
              0.7777777777777778,
              "#fb9f3a"
             ],
             [
              0.8888888888888888,
              "#fdca26"
             ],
             [
              1,
              "#f0f921"
             ]
            ],
            "type": "heatmapgl"
           }
          ],
          "histogram": [
           {
            "marker": {
             "pattern": {
              "fillmode": "overlay",
              "size": 10,
              "solidity": 0.2
             }
            },
            "type": "histogram"
           }
          ],
          "histogram2d": [
           {
            "colorbar": {
             "outlinewidth": 0,
             "ticks": ""
            },
            "colorscale": [
             [
              0,
              "#0d0887"
             ],
             [
              0.1111111111111111,
              "#46039f"
             ],
             [
              0.2222222222222222,
              "#7201a8"
             ],
             [
              0.3333333333333333,
              "#9c179e"
             ],
             [
              0.4444444444444444,
              "#bd3786"
             ],
             [
              0.5555555555555556,
              "#d8576b"
             ],
             [
              0.6666666666666666,
              "#ed7953"
             ],
             [
              0.7777777777777778,
              "#fb9f3a"
             ],
             [
              0.8888888888888888,
              "#fdca26"
             ],
             [
              1,
              "#f0f921"
             ]
            ],
            "type": "histogram2d"
           }
          ],
          "histogram2dcontour": [
           {
            "colorbar": {
             "outlinewidth": 0,
             "ticks": ""
            },
            "colorscale": [
             [
              0,
              "#0d0887"
             ],
             [
              0.1111111111111111,
              "#46039f"
             ],
             [
              0.2222222222222222,
              "#7201a8"
             ],
             [
              0.3333333333333333,
              "#9c179e"
             ],
             [
              0.4444444444444444,
              "#bd3786"
             ],
             [
              0.5555555555555556,
              "#d8576b"
             ],
             [
              0.6666666666666666,
              "#ed7953"
             ],
             [
              0.7777777777777778,
              "#fb9f3a"
             ],
             [
              0.8888888888888888,
              "#fdca26"
             ],
             [
              1,
              "#f0f921"
             ]
            ],
            "type": "histogram2dcontour"
           }
          ],
          "mesh3d": [
           {
            "colorbar": {
             "outlinewidth": 0,
             "ticks": ""
            },
            "type": "mesh3d"
           }
          ],
          "parcoords": [
           {
            "line": {
             "colorbar": {
              "outlinewidth": 0,
              "ticks": ""
             }
            },
            "type": "parcoords"
           }
          ],
          "pie": [
           {
            "automargin": true,
            "type": "pie"
           }
          ],
          "scatter": [
           {
            "fillpattern": {
             "fillmode": "overlay",
             "size": 10,
             "solidity": 0.2
            },
            "type": "scatter"
           }
          ],
          "scatter3d": [
           {
            "line": {
             "colorbar": {
              "outlinewidth": 0,
              "ticks": ""
             }
            },
            "marker": {
             "colorbar": {
              "outlinewidth": 0,
              "ticks": ""
             }
            },
            "type": "scatter3d"
           }
          ],
          "scattercarpet": [
           {
            "marker": {
             "colorbar": {
              "outlinewidth": 0,
              "ticks": ""
             }
            },
            "type": "scattercarpet"
           }
          ],
          "scattergeo": [
           {
            "marker": {
             "colorbar": {
              "outlinewidth": 0,
              "ticks": ""
             }
            },
            "type": "scattergeo"
           }
          ],
          "scattergl": [
           {
            "marker": {
             "colorbar": {
              "outlinewidth": 0,
              "ticks": ""
             }
            },
            "type": "scattergl"
           }
          ],
          "scattermapbox": [
           {
            "marker": {
             "colorbar": {
              "outlinewidth": 0,
              "ticks": ""
             }
            },
            "type": "scattermapbox"
           }
          ],
          "scatterpolar": [
           {
            "marker": {
             "colorbar": {
              "outlinewidth": 0,
              "ticks": ""
             }
            },
            "type": "scatterpolar"
           }
          ],
          "scatterpolargl": [
           {
            "marker": {
             "colorbar": {
              "outlinewidth": 0,
              "ticks": ""
             }
            },
            "type": "scatterpolargl"
           }
          ],
          "scatterternary": [
           {
            "marker": {
             "colorbar": {
              "outlinewidth": 0,
              "ticks": ""
             }
            },
            "type": "scatterternary"
           }
          ],
          "surface": [
           {
            "colorbar": {
             "outlinewidth": 0,
             "ticks": ""
            },
            "colorscale": [
             [
              0,
              "#0d0887"
             ],
             [
              0.1111111111111111,
              "#46039f"
             ],
             [
              0.2222222222222222,
              "#7201a8"
             ],
             [
              0.3333333333333333,
              "#9c179e"
             ],
             [
              0.4444444444444444,
              "#bd3786"
             ],
             [
              0.5555555555555556,
              "#d8576b"
             ],
             [
              0.6666666666666666,
              "#ed7953"
             ],
             [
              0.7777777777777778,
              "#fb9f3a"
             ],
             [
              0.8888888888888888,
              "#fdca26"
             ],
             [
              1,
              "#f0f921"
             ]
            ],
            "type": "surface"
           }
          ],
          "table": [
           {
            "cells": {
             "fill": {
              "color": "#EBF0F8"
             },
             "line": {
              "color": "white"
             }
            },
            "header": {
             "fill": {
              "color": "#C8D4E3"
             },
             "line": {
              "color": "white"
             }
            },
            "type": "table"
           }
          ]
         },
         "layout": {
          "annotationdefaults": {
           "arrowcolor": "#2a3f5f",
           "arrowhead": 0,
           "arrowwidth": 1
          },
          "autotypenumbers": "strict",
          "coloraxis": {
           "colorbar": {
            "outlinewidth": 0,
            "ticks": ""
           }
          },
          "colorscale": {
           "diverging": [
            [
             0,
             "#8e0152"
            ],
            [
             0.1,
             "#c51b7d"
            ],
            [
             0.2,
             "#de77ae"
            ],
            [
             0.3,
             "#f1b6da"
            ],
            [
             0.4,
             "#fde0ef"
            ],
            [
             0.5,
             "#f7f7f7"
            ],
            [
             0.6,
             "#e6f5d0"
            ],
            [
             0.7,
             "#b8e186"
            ],
            [
             0.8,
             "#7fbc41"
            ],
            [
             0.9,
             "#4d9221"
            ],
            [
             1,
             "#276419"
            ]
           ],
           "sequential": [
            [
             0,
             "#0d0887"
            ],
            [
             0.1111111111111111,
             "#46039f"
            ],
            [
             0.2222222222222222,
             "#7201a8"
            ],
            [
             0.3333333333333333,
             "#9c179e"
            ],
            [
             0.4444444444444444,
             "#bd3786"
            ],
            [
             0.5555555555555556,
             "#d8576b"
            ],
            [
             0.6666666666666666,
             "#ed7953"
            ],
            [
             0.7777777777777778,
             "#fb9f3a"
            ],
            [
             0.8888888888888888,
             "#fdca26"
            ],
            [
             1,
             "#f0f921"
            ]
           ],
           "sequentialminus": [
            [
             0,
             "#0d0887"
            ],
            [
             0.1111111111111111,
             "#46039f"
            ],
            [
             0.2222222222222222,
             "#7201a8"
            ],
            [
             0.3333333333333333,
             "#9c179e"
            ],
            [
             0.4444444444444444,
             "#bd3786"
            ],
            [
             0.5555555555555556,
             "#d8576b"
            ],
            [
             0.6666666666666666,
             "#ed7953"
            ],
            [
             0.7777777777777778,
             "#fb9f3a"
            ],
            [
             0.8888888888888888,
             "#fdca26"
            ],
            [
             1,
             "#f0f921"
            ]
           ]
          },
          "colorway": [
           "#636efa",
           "#EF553B",
           "#00cc96",
           "#ab63fa",
           "#FFA15A",
           "#19d3f3",
           "#FF6692",
           "#B6E880",
           "#FF97FF",
           "#FECB52"
          ],
          "font": {
           "color": "#2a3f5f"
          },
          "geo": {
           "bgcolor": "white",
           "lakecolor": "white",
           "landcolor": "#E5ECF6",
           "showlakes": true,
           "showland": true,
           "subunitcolor": "white"
          },
          "hoverlabel": {
           "align": "left"
          },
          "hovermode": "closest",
          "mapbox": {
           "style": "light"
          },
          "paper_bgcolor": "white",
          "plot_bgcolor": "#E5ECF6",
          "polar": {
           "angularaxis": {
            "gridcolor": "white",
            "linecolor": "white",
            "ticks": ""
           },
           "bgcolor": "#E5ECF6",
           "radialaxis": {
            "gridcolor": "white",
            "linecolor": "white",
            "ticks": ""
           }
          },
          "scene": {
           "xaxis": {
            "backgroundcolor": "#E5ECF6",
            "gridcolor": "white",
            "gridwidth": 2,
            "linecolor": "white",
            "showbackground": true,
            "ticks": "",
            "zerolinecolor": "white"
           },
           "yaxis": {
            "backgroundcolor": "#E5ECF6",
            "gridcolor": "white",
            "gridwidth": 2,
            "linecolor": "white",
            "showbackground": true,
            "ticks": "",
            "zerolinecolor": "white"
           },
           "zaxis": {
            "backgroundcolor": "#E5ECF6",
            "gridcolor": "white",
            "gridwidth": 2,
            "linecolor": "white",
            "showbackground": true,
            "ticks": "",
            "zerolinecolor": "white"
           }
          },
          "shapedefaults": {
           "line": {
            "color": "#2a3f5f"
           }
          },
          "ternary": {
           "aaxis": {
            "gridcolor": "white",
            "linecolor": "white",
            "ticks": ""
           },
           "baxis": {
            "gridcolor": "white",
            "linecolor": "white",
            "ticks": ""
           },
           "bgcolor": "#E5ECF6",
           "caxis": {
            "gridcolor": "white",
            "linecolor": "white",
            "ticks": ""
           }
          },
          "title": {
           "x": 0.05
          },
          "xaxis": {
           "automargin": true,
           "gridcolor": "white",
           "linecolor": "white",
           "ticks": "",
           "title": {
            "standoff": 15
           },
           "zerolinecolor": "white",
           "zerolinewidth": 2
          },
          "yaxis": {
           "automargin": true,
           "gridcolor": "white",
           "linecolor": "white",
           "ticks": "",
           "title": {
            "standoff": 15
           },
           "zerolinecolor": "white",
           "zerolinewidth": 2
          }
         }
        },
        "width": 500,
        "xaxis": {
         "anchor": "y",
         "domain": [
          0,
          1
         ],
         "range": [
          0,
          40
         ],
         "showticklabels": false,
         "tickfont": {
          "size": 15
         },
         "title": {
          "text": ""
         }
        },
        "yaxis": {
         "anchor": "x",
         "domain": [
          0,
          1
         ],
         "showticklabels": true,
         "title": {
          "text": ""
         }
        }
       }
      }
     },
     "metadata": {},
     "output_type": "display_data"
    }
   ],
   "source": [
    "flt = ((filiados['data_filiacao'].str.contains('2020') |\n",
    "      filiados['data_filiacao'].str.contains('2021')))\n",
    "\n",
    "filiados_20_21 = filiados[flt].groupby('sigla_partido')['sigla_partido'].count().reset_index(name='count').sort_values(by='count', ascending=True)\n",
    "\n",
    "filiados_20_21['%'] = filiados_20_21['count'] / filiados_20_21['count'].sum() * 100\n",
    "\n",
    "fig = px.bar(filiados_20_21.tail(10).round(2),  \n",
    "             x = '%', \n",
    "             y = 'sigla_partido',\n",
    "             barmode = 'group',\n",
    "             text = '%',\n",
    "             color_discrete_sequence=['rgb(67,133,197)'],\n",
    "             labels = {'sigla_partido': '', '%': ''})\n",
    "\n",
    "fig.update_yaxes(showticklabels = True)\n",
    "fig.update_xaxes(showticklabels = False, tickfont = {'size': 15}, range = [0, 40])\n",
    "fig.update_layout(width = 500, height = 500, plot_bgcolor = 'white', paper_bgcolor = 'white')\n",
    "fig.update_traces(texttemplate='%{text:}%', textposition='outside', textfont = {'color': 'black', 'size': 15})\n",
    "fig.show()\n",
    "\n",
    "fig.write_image(\"viz/pct_filiados_20_21.png\")"
   ]
  },
  {
   "cell_type": "code",
   "execution_count": 165,
   "metadata": {},
   "outputs": [
    {
     "data": {
      "text/plain": [
       "titulo_eleitoral\n",
       "075007760329    5\n",
       "001712250302    4\n",
       "053264340370    3\n",
       "088349620345    3\n",
       "086455660345    3\n",
       "               ..\n",
       "074324050353    1\n",
       "074320150370    1\n",
       "074301030396    1\n",
       "074297260302    1\n",
       "888497440302    1\n",
       "Length: 7143, dtype: int64"
      ]
     },
     "execution_count": 165,
     "metadata": {},
     "output_type": "execute_result"
    }
   ],
   "source": [
    "filiados[flt].value_counts('titulo_eleitoral')"
   ]
  },
  {
   "cell_type": "code",
   "execution_count": 166,
   "metadata": {},
   "outputs": [
    {
     "data": {
      "text/html": [
       "<div>\n",
       "<style scoped>\n",
       "    .dataframe tbody tr th:only-of-type {\n",
       "        vertical-align: middle;\n",
       "    }\n",
       "\n",
       "    .dataframe tbody tr th {\n",
       "        vertical-align: top;\n",
       "    }\n",
       "\n",
       "    .dataframe thead th {\n",
       "        text-align: right;\n",
       "    }\n",
       "</style>\n",
       "<table border=\"1\" class=\"dataframe\">\n",
       "  <thead>\n",
       "    <tr style=\"text-align: right;\">\n",
       "      <th></th>\n",
       "      <th>id_municipio</th>\n",
       "      <th>titulo_eleitoral</th>\n",
       "      <th>sigla_partido</th>\n",
       "      <th>data_filiacao</th>\n",
       "      <th>data_desfiliacao</th>\n",
       "      <th>motivo_cancelamento</th>\n",
       "    </tr>\n",
       "  </thead>\n",
       "  <tbody>\n",
       "    <tr>\n",
       "      <th>200525</th>\n",
       "      <td>3304557</td>\n",
       "      <td>001712250302</td>\n",
       "      <td>PCDOB</td>\n",
       "      <td>1985-04-12</td>\n",
       "      <td>2013-05-20</td>\n",
       "      <td>JUDICIAL</td>\n",
       "    </tr>\n",
       "    <tr>\n",
       "      <th>134866</th>\n",
       "      <td>3304557</td>\n",
       "      <td>001712250302</td>\n",
       "      <td>PTB</td>\n",
       "      <td>2010-05-03</td>\n",
       "      <td>2012-05-16</td>\n",
       "      <td>JUDICIAL</td>\n",
       "    </tr>\n",
       "    <tr>\n",
       "      <th>253977</th>\n",
       "      <td>3304557</td>\n",
       "      <td>001712250302</td>\n",
       "      <td>PSDB</td>\n",
       "      <td>2012-03-15</td>\n",
       "      <td>2018-12-06</td>\n",
       "      <td>JUDICIAL</td>\n",
       "    </tr>\n",
       "    <tr>\n",
       "      <th>400290</th>\n",
       "      <td>3304557</td>\n",
       "      <td>001712250302</td>\n",
       "      <td>PTB</td>\n",
       "      <td>2012-06-07</td>\n",
       "      <td>None</td>\n",
       "      <td>CANCELAMENTO AUTOMÁTICO</td>\n",
       "    </tr>\n",
       "    <tr>\n",
       "      <th>261800</th>\n",
       "      <td>3304557</td>\n",
       "      <td>001712250302</td>\n",
       "      <td>PCDOB</td>\n",
       "      <td>2013-05-21</td>\n",
       "      <td>2018-10-24</td>\n",
       "      <td>CANCELAMENTO AUTOMÁTICO</td>\n",
       "    </tr>\n",
       "    <tr>\n",
       "      <th>300130</th>\n",
       "      <td>3304557</td>\n",
       "      <td>001712250302</td>\n",
       "      <td>PSB</td>\n",
       "      <td>2014-11-25</td>\n",
       "      <td>None</td>\n",
       "      <td>CANCELAMENTO AUTOMÁTICO</td>\n",
       "    </tr>\n",
       "    <tr>\n",
       "      <th>67550</th>\n",
       "      <td>3304557</td>\n",
       "      <td>001712250302</td>\n",
       "      <td>CIDADANIA</td>\n",
       "      <td>2016-04-02</td>\n",
       "      <td>None</td>\n",
       "      <td>CANCELAMENTO AUTOMÁTICO</td>\n",
       "    </tr>\n",
       "    <tr>\n",
       "      <th>28593</th>\n",
       "      <td>3304557</td>\n",
       "      <td>001712250302</td>\n",
       "      <td>PROS</td>\n",
       "      <td>2016-06-08</td>\n",
       "      <td>None</td>\n",
       "      <td>CANCELAMENTO AUTOMÁTICO</td>\n",
       "    </tr>\n",
       "    <tr>\n",
       "      <th>295246</th>\n",
       "      <td>3304557</td>\n",
       "      <td>001712250302</td>\n",
       "      <td>PSL</td>\n",
       "      <td>2018-01-27</td>\n",
       "      <td>None</td>\n",
       "      <td>CANCELAMENTO AUTOMÁTICO</td>\n",
       "    </tr>\n",
       "    <tr>\n",
       "      <th>232896</th>\n",
       "      <td>3304557</td>\n",
       "      <td>001712250302</td>\n",
       "      <td>PSOL</td>\n",
       "      <td>2020-01-21</td>\n",
       "      <td>None</td>\n",
       "      <td>CANCELAMENTO AUTOMÁTICO</td>\n",
       "    </tr>\n",
       "    <tr>\n",
       "      <th>233636</th>\n",
       "      <td>3304557</td>\n",
       "      <td>001712250302</td>\n",
       "      <td>DEM</td>\n",
       "      <td>2021-02-09</td>\n",
       "      <td>None</td>\n",
       "      <td>CANCELAMENTO AUTOMÁTICO</td>\n",
       "    </tr>\n",
       "    <tr>\n",
       "      <th>129483</th>\n",
       "      <td>3304557</td>\n",
       "      <td>001712250302</td>\n",
       "      <td>PSC</td>\n",
       "      <td>2021-02-22</td>\n",
       "      <td>None</td>\n",
       "      <td>CANCELAMENTO AUTOMÁTICO</td>\n",
       "    </tr>\n",
       "    <tr>\n",
       "      <th>298990</th>\n",
       "      <td>3304557</td>\n",
       "      <td>001712250302</td>\n",
       "      <td>NOVO</td>\n",
       "      <td>2021-03-14</td>\n",
       "      <td>None</td>\n",
       "      <td>None</td>\n",
       "    </tr>\n",
       "  </tbody>\n",
       "</table>\n",
       "</div>"
      ],
      "text/plain": [
       "       id_municipio titulo_eleitoral sigla_partido data_filiacao  \\\n",
       "200525      3304557     001712250302         PCDOB    1985-04-12   \n",
       "134866      3304557     001712250302           PTB    2010-05-03   \n",
       "253977      3304557     001712250302          PSDB    2012-03-15   \n",
       "400290      3304557     001712250302           PTB    2012-06-07   \n",
       "261800      3304557     001712250302         PCDOB    2013-05-21   \n",
       "300130      3304557     001712250302           PSB    2014-11-25   \n",
       "67550       3304557     001712250302     CIDADANIA    2016-04-02   \n",
       "28593       3304557     001712250302          PROS    2016-06-08   \n",
       "295246      3304557     001712250302           PSL    2018-01-27   \n",
       "232896      3304557     001712250302          PSOL    2020-01-21   \n",
       "233636      3304557     001712250302           DEM    2021-02-09   \n",
       "129483      3304557     001712250302           PSC    2021-02-22   \n",
       "298990      3304557     001712250302          NOVO    2021-03-14   \n",
       "\n",
       "       data_desfiliacao      motivo_cancelamento  \n",
       "200525       2013-05-20                 JUDICIAL  \n",
       "134866       2012-05-16                 JUDICIAL  \n",
       "253977       2018-12-06                 JUDICIAL  \n",
       "400290             None  CANCELAMENTO AUTOMÁTICO  \n",
       "261800       2018-10-24  CANCELAMENTO AUTOMÁTICO  \n",
       "300130             None  CANCELAMENTO AUTOMÁTICO  \n",
       "67550              None  CANCELAMENTO AUTOMÁTICO  \n",
       "28593              None  CANCELAMENTO AUTOMÁTICO  \n",
       "295246             None  CANCELAMENTO AUTOMÁTICO  \n",
       "232896             None  CANCELAMENTO AUTOMÁTICO  \n",
       "233636             None  CANCELAMENTO AUTOMÁTICO  \n",
       "129483             None  CANCELAMENTO AUTOMÁTICO  \n",
       "298990             None                     None  "
      ]
     },
     "execution_count": 166,
     "metadata": {},
     "output_type": "execute_result"
    }
   ],
   "source": [
    "flt = filiados['titulo_eleitoral'] == '001712250302'\n",
    "filiados[flt].sort_values(by = 'data_filiacao', ascending = True)"
   ]
  },
  {
   "cell_type": "code",
   "execution_count": 154,
   "metadata": {},
   "outputs": [
    {
     "data": {
      "text/html": [
       "<div>\n",
       "<style scoped>\n",
       "    .dataframe tbody tr th:only-of-type {\n",
       "        vertical-align: middle;\n",
       "    }\n",
       "\n",
       "    .dataframe tbody tr th {\n",
       "        vertical-align: top;\n",
       "    }\n",
       "\n",
       "    .dataframe thead th {\n",
       "        text-align: right;\n",
       "    }\n",
       "</style>\n",
       "<table border=\"1\" class=\"dataframe\">\n",
       "  <thead>\n",
       "    <tr style=\"text-align: right;\">\n",
       "      <th></th>\n",
       "      <th>sigla_partido</th>\n",
       "      <th>count</th>\n",
       "      <th>%</th>\n",
       "    </tr>\n",
       "  </thead>\n",
       "  <tbody>\n",
       "    <tr>\n",
       "      <th>24</th>\n",
       "      <td>PSTU</td>\n",
       "      <td>3</td>\n",
       "      <td>0.040984</td>\n",
       "    </tr>\n",
       "    <tr>\n",
       "      <th>28</th>\n",
       "      <td>PV</td>\n",
       "      <td>13</td>\n",
       "      <td>0.177596</td>\n",
       "    </tr>\n",
       "    <tr>\n",
       "      <th>7</th>\n",
       "      <td>PCB</td>\n",
       "      <td>26</td>\n",
       "      <td>0.355191</td>\n",
       "    </tr>\n",
       "    <tr>\n",
       "      <th>8</th>\n",
       "      <td>PCDOB</td>\n",
       "      <td>37</td>\n",
       "      <td>0.505464</td>\n",
       "    </tr>\n",
       "    <tr>\n",
       "      <th>29</th>\n",
       "      <td>REDE</td>\n",
       "      <td>56</td>\n",
       "      <td>0.765027</td>\n",
       "    </tr>\n",
       "    <tr>\n",
       "      <th>13</th>\n",
       "      <td>PMN</td>\n",
       "      <td>56</td>\n",
       "      <td>0.765027</td>\n",
       "    </tr>\n",
       "    <tr>\n",
       "      <th>9</th>\n",
       "      <td>PCO</td>\n",
       "      <td>59</td>\n",
       "      <td>0.806011</td>\n",
       "    </tr>\n",
       "    <tr>\n",
       "      <th>15</th>\n",
       "      <td>PP</td>\n",
       "      <td>74</td>\n",
       "      <td>1.010929</td>\n",
       "    </tr>\n",
       "    <tr>\n",
       "      <th>4</th>\n",
       "      <td>MDB</td>\n",
       "      <td>75</td>\n",
       "      <td>1.024590</td>\n",
       "    </tr>\n",
       "    <tr>\n",
       "      <th>18</th>\n",
       "      <td>PSB</td>\n",
       "      <td>76</td>\n",
       "      <td>1.038251</td>\n",
       "    </tr>\n",
       "    <tr>\n",
       "      <th>0</th>\n",
       "      <td>AVANTE</td>\n",
       "      <td>77</td>\n",
       "      <td>1.051913</td>\n",
       "    </tr>\n",
       "    <tr>\n",
       "      <th>27</th>\n",
       "      <td>PTC</td>\n",
       "      <td>81</td>\n",
       "      <td>1.106557</td>\n",
       "    </tr>\n",
       "    <tr>\n",
       "      <th>17</th>\n",
       "      <td>PRTB</td>\n",
       "      <td>86</td>\n",
       "      <td>1.174863</td>\n",
       "    </tr>\n",
       "    <tr>\n",
       "      <th>20</th>\n",
       "      <td>PSD</td>\n",
       "      <td>89</td>\n",
       "      <td>1.215847</td>\n",
       "    </tr>\n",
       "    <tr>\n",
       "      <th>12</th>\n",
       "      <td>PMB</td>\n",
       "      <td>95</td>\n",
       "      <td>1.297814</td>\n",
       "    </tr>\n",
       "    <tr>\n",
       "      <th>19</th>\n",
       "      <td>PSC</td>\n",
       "      <td>96</td>\n",
       "      <td>1.311475</td>\n",
       "    </tr>\n",
       "    <tr>\n",
       "      <th>21</th>\n",
       "      <td>PSDB</td>\n",
       "      <td>96</td>\n",
       "      <td>1.311475</td>\n",
       "    </tr>\n",
       "    <tr>\n",
       "      <th>16</th>\n",
       "      <td>PROS</td>\n",
       "      <td>110</td>\n",
       "      <td>1.502732</td>\n",
       "    </tr>\n",
       "    <tr>\n",
       "      <th>11</th>\n",
       "      <td>PL</td>\n",
       "      <td>111</td>\n",
       "      <td>1.516393</td>\n",
       "    </tr>\n",
       "    <tr>\n",
       "      <th>6</th>\n",
       "      <td>PATRIOTA</td>\n",
       "      <td>115</td>\n",
       "      <td>1.571038</td>\n",
       "    </tr>\n",
       "    <tr>\n",
       "      <th>14</th>\n",
       "      <td>PODE</td>\n",
       "      <td>116</td>\n",
       "      <td>1.584699</td>\n",
       "    </tr>\n",
       "    <tr>\n",
       "      <th>2</th>\n",
       "      <td>DC</td>\n",
       "      <td>120</td>\n",
       "      <td>1.639344</td>\n",
       "    </tr>\n",
       "    <tr>\n",
       "      <th>26</th>\n",
       "      <td>PTB</td>\n",
       "      <td>125</td>\n",
       "      <td>1.707650</td>\n",
       "    </tr>\n",
       "    <tr>\n",
       "      <th>3</th>\n",
       "      <td>DEM</td>\n",
       "      <td>156</td>\n",
       "      <td>2.131148</td>\n",
       "    </tr>\n",
       "    <tr>\n",
       "      <th>30</th>\n",
       "      <td>REPUBLICANOS</td>\n",
       "      <td>172</td>\n",
       "      <td>2.349727</td>\n",
       "    </tr>\n",
       "    <tr>\n",
       "      <th>32</th>\n",
       "      <td>UP</td>\n",
       "      <td>174</td>\n",
       "      <td>2.377049</td>\n",
       "    </tr>\n",
       "    <tr>\n",
       "      <th>5</th>\n",
       "      <td>NOVO</td>\n",
       "      <td>238</td>\n",
       "      <td>3.251366</td>\n",
       "    </tr>\n",
       "    <tr>\n",
       "      <th>31</th>\n",
       "      <td>SOLIDARIEDADE</td>\n",
       "      <td>255</td>\n",
       "      <td>3.483607</td>\n",
       "    </tr>\n",
       "    <tr>\n",
       "      <th>1</th>\n",
       "      <td>CIDADANIA</td>\n",
       "      <td>334</td>\n",
       "      <td>4.562842</td>\n",
       "    </tr>\n",
       "    <tr>\n",
       "      <th>10</th>\n",
       "      <td>PDT</td>\n",
       "      <td>382</td>\n",
       "      <td>5.218579</td>\n",
       "    </tr>\n",
       "    <tr>\n",
       "      <th>23</th>\n",
       "      <td>PSOL</td>\n",
       "      <td>846</td>\n",
       "      <td>11.557377</td>\n",
       "    </tr>\n",
       "    <tr>\n",
       "      <th>25</th>\n",
       "      <td>PT</td>\n",
       "      <td>859</td>\n",
       "      <td>11.734973</td>\n",
       "    </tr>\n",
       "    <tr>\n",
       "      <th>22</th>\n",
       "      <td>PSL</td>\n",
       "      <td>2112</td>\n",
       "      <td>28.852459</td>\n",
       "    </tr>\n",
       "  </tbody>\n",
       "</table>\n",
       "</div>"
      ],
      "text/plain": [
       "    sigla_partido  count          %\n",
       "24           PSTU      3   0.040984\n",
       "28             PV     13   0.177596\n",
       "7             PCB     26   0.355191\n",
       "8           PCDOB     37   0.505464\n",
       "29           REDE     56   0.765027\n",
       "13            PMN     56   0.765027\n",
       "9             PCO     59   0.806011\n",
       "15             PP     74   1.010929\n",
       "4             MDB     75   1.024590\n",
       "18            PSB     76   1.038251\n",
       "0          AVANTE     77   1.051913\n",
       "27            PTC     81   1.106557\n",
       "17           PRTB     86   1.174863\n",
       "20            PSD     89   1.215847\n",
       "12            PMB     95   1.297814\n",
       "19            PSC     96   1.311475\n",
       "21           PSDB     96   1.311475\n",
       "16           PROS    110   1.502732\n",
       "11             PL    111   1.516393\n",
       "6        PATRIOTA    115   1.571038\n",
       "14           PODE    116   1.584699\n",
       "2              DC    120   1.639344\n",
       "26            PTB    125   1.707650\n",
       "3             DEM    156   2.131148\n",
       "30   REPUBLICANOS    172   2.349727\n",
       "32             UP    174   2.377049\n",
       "5            NOVO    238   3.251366\n",
       "31  SOLIDARIEDADE    255   3.483607\n",
       "1       CIDADANIA    334   4.562842\n",
       "10            PDT    382   5.218579\n",
       "23           PSOL    846  11.557377\n",
       "25             PT    859  11.734973\n",
       "22            PSL   2112  28.852459"
      ]
     },
     "execution_count": 154,
     "metadata": {},
     "output_type": "execute_result"
    }
   ],
   "source": [
    "filiados_20_21"
   ]
  },
  {
   "cell_type": "code",
   "execution_count": 145,
   "metadata": {},
   "outputs": [
    {
     "data": {
      "application/vnd.plotly.v1+json": {
       "config": {
        "plotlyServerURL": "https://plot.ly"
       },
       "data": [
        {
         "alignmentgroup": "True",
         "hovertemplate": "=%{text}<extra></extra>",
         "legendgroup": "",
         "marker": {
          "color": "rgb(67,133,197)",
          "pattern": {
           "shape": ""
          }
         },
         "name": "",
         "offsetgroup": "",
         "orientation": "h",
         "showlegend": false,
         "text": [
          0.1,
          0.1,
          0.1,
          0.1,
          0.1,
          0.1,
          0.15,
          0.2,
          1.53,
          97.24
         ],
         "textfont": {
          "color": "black",
          "size": 15
         },
         "textposition": "outside",
         "texttemplate": "%{text:}%",
         "type": "bar",
         "x": [
          0.1,
          0.1,
          0.1,
          0.1,
          0.1,
          0.1,
          0.15,
          0.2,
          1.53,
          97.24
         ],
         "xaxis": "x",
         "y": [
          "DEM",
          "PMB",
          "PSC",
          "PSDB",
          "PSTU",
          "PTB",
          "REDE",
          "PSB",
          "NOVO",
          "PSL"
         ],
         "yaxis": "y"
        }
       ],
       "layout": {
        "barmode": "group",
        "height": 500,
        "legend": {
         "tracegroupgap": 0
        },
        "margin": {
         "t": 60
        },
        "paper_bgcolor": "white",
        "plot_bgcolor": "white",
        "template": {
         "data": {
          "bar": [
           {
            "error_x": {
             "color": "#2a3f5f"
            },
            "error_y": {
             "color": "#2a3f5f"
            },
            "marker": {
             "line": {
              "color": "#E5ECF6",
              "width": 0.5
             },
             "pattern": {
              "fillmode": "overlay",
              "size": 10,
              "solidity": 0.2
             }
            },
            "type": "bar"
           }
          ],
          "barpolar": [
           {
            "marker": {
             "line": {
              "color": "#E5ECF6",
              "width": 0.5
             },
             "pattern": {
              "fillmode": "overlay",
              "size": 10,
              "solidity": 0.2
             }
            },
            "type": "barpolar"
           }
          ],
          "carpet": [
           {
            "aaxis": {
             "endlinecolor": "#2a3f5f",
             "gridcolor": "white",
             "linecolor": "white",
             "minorgridcolor": "white",
             "startlinecolor": "#2a3f5f"
            },
            "baxis": {
             "endlinecolor": "#2a3f5f",
             "gridcolor": "white",
             "linecolor": "white",
             "minorgridcolor": "white",
             "startlinecolor": "#2a3f5f"
            },
            "type": "carpet"
           }
          ],
          "choropleth": [
           {
            "colorbar": {
             "outlinewidth": 0,
             "ticks": ""
            },
            "type": "choropleth"
           }
          ],
          "contour": [
           {
            "colorbar": {
             "outlinewidth": 0,
             "ticks": ""
            },
            "colorscale": [
             [
              0,
              "#0d0887"
             ],
             [
              0.1111111111111111,
              "#46039f"
             ],
             [
              0.2222222222222222,
              "#7201a8"
             ],
             [
              0.3333333333333333,
              "#9c179e"
             ],
             [
              0.4444444444444444,
              "#bd3786"
             ],
             [
              0.5555555555555556,
              "#d8576b"
             ],
             [
              0.6666666666666666,
              "#ed7953"
             ],
             [
              0.7777777777777778,
              "#fb9f3a"
             ],
             [
              0.8888888888888888,
              "#fdca26"
             ],
             [
              1,
              "#f0f921"
             ]
            ],
            "type": "contour"
           }
          ],
          "contourcarpet": [
           {
            "colorbar": {
             "outlinewidth": 0,
             "ticks": ""
            },
            "type": "contourcarpet"
           }
          ],
          "heatmap": [
           {
            "colorbar": {
             "outlinewidth": 0,
             "ticks": ""
            },
            "colorscale": [
             [
              0,
              "#0d0887"
             ],
             [
              0.1111111111111111,
              "#46039f"
             ],
             [
              0.2222222222222222,
              "#7201a8"
             ],
             [
              0.3333333333333333,
              "#9c179e"
             ],
             [
              0.4444444444444444,
              "#bd3786"
             ],
             [
              0.5555555555555556,
              "#d8576b"
             ],
             [
              0.6666666666666666,
              "#ed7953"
             ],
             [
              0.7777777777777778,
              "#fb9f3a"
             ],
             [
              0.8888888888888888,
              "#fdca26"
             ],
             [
              1,
              "#f0f921"
             ]
            ],
            "type": "heatmap"
           }
          ],
          "heatmapgl": [
           {
            "colorbar": {
             "outlinewidth": 0,
             "ticks": ""
            },
            "colorscale": [
             [
              0,
              "#0d0887"
             ],
             [
              0.1111111111111111,
              "#46039f"
             ],
             [
              0.2222222222222222,
              "#7201a8"
             ],
             [
              0.3333333333333333,
              "#9c179e"
             ],
             [
              0.4444444444444444,
              "#bd3786"
             ],
             [
              0.5555555555555556,
              "#d8576b"
             ],
             [
              0.6666666666666666,
              "#ed7953"
             ],
             [
              0.7777777777777778,
              "#fb9f3a"
             ],
             [
              0.8888888888888888,
              "#fdca26"
             ],
             [
              1,
              "#f0f921"
             ]
            ],
            "type": "heatmapgl"
           }
          ],
          "histogram": [
           {
            "marker": {
             "pattern": {
              "fillmode": "overlay",
              "size": 10,
              "solidity": 0.2
             }
            },
            "type": "histogram"
           }
          ],
          "histogram2d": [
           {
            "colorbar": {
             "outlinewidth": 0,
             "ticks": ""
            },
            "colorscale": [
             [
              0,
              "#0d0887"
             ],
             [
              0.1111111111111111,
              "#46039f"
             ],
             [
              0.2222222222222222,
              "#7201a8"
             ],
             [
              0.3333333333333333,
              "#9c179e"
             ],
             [
              0.4444444444444444,
              "#bd3786"
             ],
             [
              0.5555555555555556,
              "#d8576b"
             ],
             [
              0.6666666666666666,
              "#ed7953"
             ],
             [
              0.7777777777777778,
              "#fb9f3a"
             ],
             [
              0.8888888888888888,
              "#fdca26"
             ],
             [
              1,
              "#f0f921"
             ]
            ],
            "type": "histogram2d"
           }
          ],
          "histogram2dcontour": [
           {
            "colorbar": {
             "outlinewidth": 0,
             "ticks": ""
            },
            "colorscale": [
             [
              0,
              "#0d0887"
             ],
             [
              0.1111111111111111,
              "#46039f"
             ],
             [
              0.2222222222222222,
              "#7201a8"
             ],
             [
              0.3333333333333333,
              "#9c179e"
             ],
             [
              0.4444444444444444,
              "#bd3786"
             ],
             [
              0.5555555555555556,
              "#d8576b"
             ],
             [
              0.6666666666666666,
              "#ed7953"
             ],
             [
              0.7777777777777778,
              "#fb9f3a"
             ],
             [
              0.8888888888888888,
              "#fdca26"
             ],
             [
              1,
              "#f0f921"
             ]
            ],
            "type": "histogram2dcontour"
           }
          ],
          "mesh3d": [
           {
            "colorbar": {
             "outlinewidth": 0,
             "ticks": ""
            },
            "type": "mesh3d"
           }
          ],
          "parcoords": [
           {
            "line": {
             "colorbar": {
              "outlinewidth": 0,
              "ticks": ""
             }
            },
            "type": "parcoords"
           }
          ],
          "pie": [
           {
            "automargin": true,
            "type": "pie"
           }
          ],
          "scatter": [
           {
            "fillpattern": {
             "fillmode": "overlay",
             "size": 10,
             "solidity": 0.2
            },
            "type": "scatter"
           }
          ],
          "scatter3d": [
           {
            "line": {
             "colorbar": {
              "outlinewidth": 0,
              "ticks": ""
             }
            },
            "marker": {
             "colorbar": {
              "outlinewidth": 0,
              "ticks": ""
             }
            },
            "type": "scatter3d"
           }
          ],
          "scattercarpet": [
           {
            "marker": {
             "colorbar": {
              "outlinewidth": 0,
              "ticks": ""
             }
            },
            "type": "scattercarpet"
           }
          ],
          "scattergeo": [
           {
            "marker": {
             "colorbar": {
              "outlinewidth": 0,
              "ticks": ""
             }
            },
            "type": "scattergeo"
           }
          ],
          "scattergl": [
           {
            "marker": {
             "colorbar": {
              "outlinewidth": 0,
              "ticks": ""
             }
            },
            "type": "scattergl"
           }
          ],
          "scattermapbox": [
           {
            "marker": {
             "colorbar": {
              "outlinewidth": 0,
              "ticks": ""
             }
            },
            "type": "scattermapbox"
           }
          ],
          "scatterpolar": [
           {
            "marker": {
             "colorbar": {
              "outlinewidth": 0,
              "ticks": ""
             }
            },
            "type": "scatterpolar"
           }
          ],
          "scatterpolargl": [
           {
            "marker": {
             "colorbar": {
              "outlinewidth": 0,
              "ticks": ""
             }
            },
            "type": "scatterpolargl"
           }
          ],
          "scatterternary": [
           {
            "marker": {
             "colorbar": {
              "outlinewidth": 0,
              "ticks": ""
             }
            },
            "type": "scatterternary"
           }
          ],
          "surface": [
           {
            "colorbar": {
             "outlinewidth": 0,
             "ticks": ""
            },
            "colorscale": [
             [
              0,
              "#0d0887"
             ],
             [
              0.1111111111111111,
              "#46039f"
             ],
             [
              0.2222222222222222,
              "#7201a8"
             ],
             [
              0.3333333333333333,
              "#9c179e"
             ],
             [
              0.4444444444444444,
              "#bd3786"
             ],
             [
              0.5555555555555556,
              "#d8576b"
             ],
             [
              0.6666666666666666,
              "#ed7953"
             ],
             [
              0.7777777777777778,
              "#fb9f3a"
             ],
             [
              0.8888888888888888,
              "#fdca26"
             ],
             [
              1,
              "#f0f921"
             ]
            ],
            "type": "surface"
           }
          ],
          "table": [
           {
            "cells": {
             "fill": {
              "color": "#EBF0F8"
             },
             "line": {
              "color": "white"
             }
            },
            "header": {
             "fill": {
              "color": "#C8D4E3"
             },
             "line": {
              "color": "white"
             }
            },
            "type": "table"
           }
          ]
         },
         "layout": {
          "annotationdefaults": {
           "arrowcolor": "#2a3f5f",
           "arrowhead": 0,
           "arrowwidth": 1
          },
          "autotypenumbers": "strict",
          "coloraxis": {
           "colorbar": {
            "outlinewidth": 0,
            "ticks": ""
           }
          },
          "colorscale": {
           "diverging": [
            [
             0,
             "#8e0152"
            ],
            [
             0.1,
             "#c51b7d"
            ],
            [
             0.2,
             "#de77ae"
            ],
            [
             0.3,
             "#f1b6da"
            ],
            [
             0.4,
             "#fde0ef"
            ],
            [
             0.5,
             "#f7f7f7"
            ],
            [
             0.6,
             "#e6f5d0"
            ],
            [
             0.7,
             "#b8e186"
            ],
            [
             0.8,
             "#7fbc41"
            ],
            [
             0.9,
             "#4d9221"
            ],
            [
             1,
             "#276419"
            ]
           ],
           "sequential": [
            [
             0,
             "#0d0887"
            ],
            [
             0.1111111111111111,
             "#46039f"
            ],
            [
             0.2222222222222222,
             "#7201a8"
            ],
            [
             0.3333333333333333,
             "#9c179e"
            ],
            [
             0.4444444444444444,
             "#bd3786"
            ],
            [
             0.5555555555555556,
             "#d8576b"
            ],
            [
             0.6666666666666666,
             "#ed7953"
            ],
            [
             0.7777777777777778,
             "#fb9f3a"
            ],
            [
             0.8888888888888888,
             "#fdca26"
            ],
            [
             1,
             "#f0f921"
            ]
           ],
           "sequentialminus": [
            [
             0,
             "#0d0887"
            ],
            [
             0.1111111111111111,
             "#46039f"
            ],
            [
             0.2222222222222222,
             "#7201a8"
            ],
            [
             0.3333333333333333,
             "#9c179e"
            ],
            [
             0.4444444444444444,
             "#bd3786"
            ],
            [
             0.5555555555555556,
             "#d8576b"
            ],
            [
             0.6666666666666666,
             "#ed7953"
            ],
            [
             0.7777777777777778,
             "#fb9f3a"
            ],
            [
             0.8888888888888888,
             "#fdca26"
            ],
            [
             1,
             "#f0f921"
            ]
           ]
          },
          "colorway": [
           "#636efa",
           "#EF553B",
           "#00cc96",
           "#ab63fa",
           "#FFA15A",
           "#19d3f3",
           "#FF6692",
           "#B6E880",
           "#FF97FF",
           "#FECB52"
          ],
          "font": {
           "color": "#2a3f5f"
          },
          "geo": {
           "bgcolor": "white",
           "lakecolor": "white",
           "landcolor": "#E5ECF6",
           "showlakes": true,
           "showland": true,
           "subunitcolor": "white"
          },
          "hoverlabel": {
           "align": "left"
          },
          "hovermode": "closest",
          "mapbox": {
           "style": "light"
          },
          "paper_bgcolor": "white",
          "plot_bgcolor": "#E5ECF6",
          "polar": {
           "angularaxis": {
            "gridcolor": "white",
            "linecolor": "white",
            "ticks": ""
           },
           "bgcolor": "#E5ECF6",
           "radialaxis": {
            "gridcolor": "white",
            "linecolor": "white",
            "ticks": ""
           }
          },
          "scene": {
           "xaxis": {
            "backgroundcolor": "#E5ECF6",
            "gridcolor": "white",
            "gridwidth": 2,
            "linecolor": "white",
            "showbackground": true,
            "ticks": "",
            "zerolinecolor": "white"
           },
           "yaxis": {
            "backgroundcolor": "#E5ECF6",
            "gridcolor": "white",
            "gridwidth": 2,
            "linecolor": "white",
            "showbackground": true,
            "ticks": "",
            "zerolinecolor": "white"
           },
           "zaxis": {
            "backgroundcolor": "#E5ECF6",
            "gridcolor": "white",
            "gridwidth": 2,
            "linecolor": "white",
            "showbackground": true,
            "ticks": "",
            "zerolinecolor": "white"
           }
          },
          "shapedefaults": {
           "line": {
            "color": "#2a3f5f"
           }
          },
          "ternary": {
           "aaxis": {
            "gridcolor": "white",
            "linecolor": "white",
            "ticks": ""
           },
           "baxis": {
            "gridcolor": "white",
            "linecolor": "white",
            "ticks": ""
           },
           "bgcolor": "#E5ECF6",
           "caxis": {
            "gridcolor": "white",
            "linecolor": "white",
            "ticks": ""
           }
          },
          "title": {
           "x": 0.05
          },
          "xaxis": {
           "automargin": true,
           "gridcolor": "white",
           "linecolor": "white",
           "ticks": "",
           "title": {
            "standoff": 15
           },
           "zerolinecolor": "white",
           "zerolinewidth": 2
          },
          "yaxis": {
           "automargin": true,
           "gridcolor": "white",
           "linecolor": "white",
           "ticks": "",
           "title": {
            "standoff": 15
           },
           "zerolinecolor": "white",
           "zerolinewidth": 2
          }
         }
        },
        "width": 500,
        "xaxis": {
         "anchor": "y",
         "domain": [
          0,
          1
         ],
         "range": [
          0,
          120
         ],
         "showticklabels": false,
         "tickfont": {
          "size": 15
         },
         "title": {
          "text": ""
         }
        },
        "yaxis": {
         "anchor": "x",
         "domain": [
          0,
          1
         ],
         "showticklabels": true,
         "title": {
          "text": ""
         }
        }
       }
      }
     },
     "metadata": {},
     "output_type": "display_data"
    }
   ],
   "source": [
    "flt = ((filiados['data_filiacao'].str.contains('2020') == True) & \n",
    "      ((filiados['data_desfiliacao'].str.contains('2021') == True) | \n",
    "      (filiados['data_desfiliacao'].str.contains('2020') == True)))\n",
    "\n",
    "# pessoas que se filiaram em 2020 e desfiliaram no mesmo ano ou em 2021\n",
    "des_filiado_20_21 = filiados[flt]\n",
    "\n",
    "por_partido = des_filiado_20_21.groupby('sigla_partido')['sigla_partido'].count().reset_index(name='count').sort_values(['count'], ascending=True)\n",
    "\n",
    "por_partido['%'] = por_partido['count'] / por_partido['count'].sum() * 100\n",
    "\n",
    "fig = px.bar(por_partido.tail(10).round(2),  \n",
    "             x = '%', \n",
    "             y = 'sigla_partido',\n",
    "             barmode = 'group',\n",
    "             text = '%',\n",
    "             color_discrete_sequence=['rgb(67,133,197)'],\n",
    "             labels = {'sigla_partido': '', '%': ''})\n",
    "\n",
    "fig.update_yaxes(showticklabels = True)\n",
    "fig.update_xaxes(showticklabels = False, tickfont = {'size': 15}, range = [0, 120])\n",
    "fig.update_layout(width = 500, height = 500, plot_bgcolor = 'white', paper_bgcolor = 'white')\n",
    "fig.update_traces(texttemplate='%{text:}%', textposition='outside', textfont = {'color': 'black', 'size': 15})\n",
    "fig.show()\n",
    "\n",
    "fig.write_image(\"viz/pct_filiado_20_desfiliado_20_21.png\")"
   ]
  },
  {
   "cell_type": "code",
   "execution_count": 162,
   "metadata": {},
   "outputs": [
    {
     "data": {
      "text/html": [
       "<div>\n",
       "<style scoped>\n",
       "    .dataframe tbody tr th:only-of-type {\n",
       "        vertical-align: middle;\n",
       "    }\n",
       "\n",
       "    .dataframe tbody tr th {\n",
       "        vertical-align: top;\n",
       "    }\n",
       "\n",
       "    .dataframe thead th {\n",
       "        text-align: right;\n",
       "    }\n",
       "</style>\n",
       "<table border=\"1\" class=\"dataframe\">\n",
       "  <thead>\n",
       "    <tr style=\"text-align: right;\">\n",
       "      <th></th>\n",
       "      <th>id_municipio</th>\n",
       "      <th>titulo_eleitoral</th>\n",
       "      <th>sigla_partido</th>\n",
       "      <th>data_filiacao</th>\n",
       "      <th>data_desfiliacao</th>\n",
       "      <th>motivo_cancelamento</th>\n",
       "      <th>mes_desfiliacao</th>\n",
       "    </tr>\n",
       "  </thead>\n",
       "  <tbody>\n",
       "    <tr>\n",
       "      <th>912</th>\n",
       "      <td>3304557</td>\n",
       "      <td>080804680337</td>\n",
       "      <td>PSL</td>\n",
       "      <td>2020-01-20</td>\n",
       "      <td>2021-04-08</td>\n",
       "      <td>None</td>\n",
       "      <td>2021-04</td>\n",
       "    </tr>\n",
       "    <tr>\n",
       "      <th>916</th>\n",
       "      <td>3304557</td>\n",
       "      <td>078051020396</td>\n",
       "      <td>PSL</td>\n",
       "      <td>2020-01-17</td>\n",
       "      <td>2021-04-09</td>\n",
       "      <td>None</td>\n",
       "      <td>2021-04</td>\n",
       "    </tr>\n",
       "    <tr>\n",
       "      <th>922</th>\n",
       "      <td>3304557</td>\n",
       "      <td>004646620329</td>\n",
       "      <td>PSL</td>\n",
       "      <td>2020-03-27</td>\n",
       "      <td>2021-04-09</td>\n",
       "      <td>None</td>\n",
       "      <td>2021-04</td>\n",
       "    </tr>\n",
       "    <tr>\n",
       "      <th>926</th>\n",
       "      <td>3304557</td>\n",
       "      <td>017286250353</td>\n",
       "      <td>PSL</td>\n",
       "      <td>2020-03-15</td>\n",
       "      <td>2021-04-05</td>\n",
       "      <td>None</td>\n",
       "      <td>2021-04</td>\n",
       "    </tr>\n",
       "    <tr>\n",
       "      <th>942</th>\n",
       "      <td>3304557</td>\n",
       "      <td>089463240329</td>\n",
       "      <td>PSL</td>\n",
       "      <td>2020-03-30</td>\n",
       "      <td>2020-09-25</td>\n",
       "      <td>A PEDIDO DO ELEITOR</td>\n",
       "      <td>2020-09</td>\n",
       "    </tr>\n",
       "    <tr>\n",
       "      <th>...</th>\n",
       "      <td>...</td>\n",
       "      <td>...</td>\n",
       "      <td>...</td>\n",
       "      <td>...</td>\n",
       "      <td>...</td>\n",
       "      <td>...</td>\n",
       "      <td>...</td>\n",
       "    </tr>\n",
       "    <tr>\n",
       "      <th>442156</th>\n",
       "      <td>3304557</td>\n",
       "      <td>078341320396</td>\n",
       "      <td>PSL</td>\n",
       "      <td>2020-01-17</td>\n",
       "      <td>2021-04-09</td>\n",
       "      <td>None</td>\n",
       "      <td>2021-04</td>\n",
       "    </tr>\n",
       "    <tr>\n",
       "      <th>442157</th>\n",
       "      <td>3304557</td>\n",
       "      <td>121211690302</td>\n",
       "      <td>PSL</td>\n",
       "      <td>2020-01-25</td>\n",
       "      <td>2021-04-07</td>\n",
       "      <td>None</td>\n",
       "      <td>2021-04</td>\n",
       "    </tr>\n",
       "    <tr>\n",
       "      <th>442164</th>\n",
       "      <td>3304557</td>\n",
       "      <td>097638720329</td>\n",
       "      <td>PSL</td>\n",
       "      <td>2020-03-16</td>\n",
       "      <td>2021-04-09</td>\n",
       "      <td>None</td>\n",
       "      <td>2021-04</td>\n",
       "    </tr>\n",
       "    <tr>\n",
       "      <th>442166</th>\n",
       "      <td>3304557</td>\n",
       "      <td>082126000337</td>\n",
       "      <td>PSL</td>\n",
       "      <td>2020-03-31</td>\n",
       "      <td>2021-04-08</td>\n",
       "      <td>None</td>\n",
       "      <td>2021-04</td>\n",
       "    </tr>\n",
       "    <tr>\n",
       "      <th>442463</th>\n",
       "      <td>3304557</td>\n",
       "      <td>014715250329</td>\n",
       "      <td>PSB</td>\n",
       "      <td>2020-03-25</td>\n",
       "      <td>2020-09-14</td>\n",
       "      <td>None</td>\n",
       "      <td>2020-09</td>\n",
       "    </tr>\n",
       "  </tbody>\n",
       "</table>\n",
       "<p>2028 rows × 7 columns</p>\n",
       "</div>"
      ],
      "text/plain": [
       "       id_municipio titulo_eleitoral sigla_partido data_filiacao  \\\n",
       "912         3304557     080804680337           PSL    2020-01-20   \n",
       "916         3304557     078051020396           PSL    2020-01-17   \n",
       "922         3304557     004646620329           PSL    2020-03-27   \n",
       "926         3304557     017286250353           PSL    2020-03-15   \n",
       "942         3304557     089463240329           PSL    2020-03-30   \n",
       "...             ...              ...           ...           ...   \n",
       "442156      3304557     078341320396           PSL    2020-01-17   \n",
       "442157      3304557     121211690302           PSL    2020-01-25   \n",
       "442164      3304557     097638720329           PSL    2020-03-16   \n",
       "442166      3304557     082126000337           PSL    2020-03-31   \n",
       "442463      3304557     014715250329           PSB    2020-03-25   \n",
       "\n",
       "       data_desfiliacao  motivo_cancelamento mes_desfiliacao  \n",
       "912          2021-04-08                 None         2021-04  \n",
       "916          2021-04-09                 None         2021-04  \n",
       "922          2021-04-09                 None         2021-04  \n",
       "926          2021-04-05                 None         2021-04  \n",
       "942          2020-09-25  A PEDIDO DO ELEITOR         2020-09  \n",
       "...                 ...                  ...             ...  \n",
       "442156       2021-04-09                 None         2021-04  \n",
       "442157       2021-04-07                 None         2021-04  \n",
       "442164       2021-04-09                 None         2021-04  \n",
       "442166       2021-04-08                 None         2021-04  \n",
       "442463       2020-09-14                 None         2020-09  \n",
       "\n",
       "[2028 rows x 7 columns]"
      ]
     },
     "execution_count": 162,
     "metadata": {},
     "output_type": "execute_result"
    }
   ],
   "source": [
    "des_filiado_20_21"
   ]
  },
  {
   "cell_type": "code",
   "execution_count": 152,
   "metadata": {},
   "outputs": [
    {
     "data": {
      "application/vnd.plotly.v1+json": {
       "config": {
        "plotlyServerURL": "https://plot.ly"
       },
       "data": [
        {
         "alignmentgroup": "True",
         "hovertemplate": "=%{text}<extra></extra>",
         "legendgroup": "",
         "marker": {
          "color": "rgb(67,133,197)",
          "pattern": {
           "shape": ""
          }
         },
         "name": "",
         "offsetgroup": "",
         "orientation": "v",
         "showlegend": false,
         "text": [
          1,
          1,
          1,
          6,
          6,
          1,
          2,
          7,
          1947
         ],
         "textfont": {
          "color": "black",
          "size": 15
         },
         "textposition": "outside",
         "texttemplate": "%{text:}",
         "type": "bar",
         "x": [
          "2020-04",
          "2020-05",
          "2020-06",
          "2020-07",
          "2020-09",
          "2020-10",
          "2020-12",
          "2021-03",
          "2021-04"
         ],
         "xaxis": "x",
         "y": [
          1,
          1,
          1,
          6,
          6,
          1,
          2,
          7,
          1947
         ],
         "yaxis": "y"
        }
       ],
       "layout": {
        "barmode": "group",
        "height": 500,
        "legend": {
         "tracegroupgap": 0
        },
        "margin": {
         "t": 60
        },
        "paper_bgcolor": "white",
        "plot_bgcolor": "white",
        "template": {
         "data": {
          "bar": [
           {
            "error_x": {
             "color": "#2a3f5f"
            },
            "error_y": {
             "color": "#2a3f5f"
            },
            "marker": {
             "line": {
              "color": "#E5ECF6",
              "width": 0.5
             },
             "pattern": {
              "fillmode": "overlay",
              "size": 10,
              "solidity": 0.2
             }
            },
            "type": "bar"
           }
          ],
          "barpolar": [
           {
            "marker": {
             "line": {
              "color": "#E5ECF6",
              "width": 0.5
             },
             "pattern": {
              "fillmode": "overlay",
              "size": 10,
              "solidity": 0.2
             }
            },
            "type": "barpolar"
           }
          ],
          "carpet": [
           {
            "aaxis": {
             "endlinecolor": "#2a3f5f",
             "gridcolor": "white",
             "linecolor": "white",
             "minorgridcolor": "white",
             "startlinecolor": "#2a3f5f"
            },
            "baxis": {
             "endlinecolor": "#2a3f5f",
             "gridcolor": "white",
             "linecolor": "white",
             "minorgridcolor": "white",
             "startlinecolor": "#2a3f5f"
            },
            "type": "carpet"
           }
          ],
          "choropleth": [
           {
            "colorbar": {
             "outlinewidth": 0,
             "ticks": ""
            },
            "type": "choropleth"
           }
          ],
          "contour": [
           {
            "colorbar": {
             "outlinewidth": 0,
             "ticks": ""
            },
            "colorscale": [
             [
              0,
              "#0d0887"
             ],
             [
              0.1111111111111111,
              "#46039f"
             ],
             [
              0.2222222222222222,
              "#7201a8"
             ],
             [
              0.3333333333333333,
              "#9c179e"
             ],
             [
              0.4444444444444444,
              "#bd3786"
             ],
             [
              0.5555555555555556,
              "#d8576b"
             ],
             [
              0.6666666666666666,
              "#ed7953"
             ],
             [
              0.7777777777777778,
              "#fb9f3a"
             ],
             [
              0.8888888888888888,
              "#fdca26"
             ],
             [
              1,
              "#f0f921"
             ]
            ],
            "type": "contour"
           }
          ],
          "contourcarpet": [
           {
            "colorbar": {
             "outlinewidth": 0,
             "ticks": ""
            },
            "type": "contourcarpet"
           }
          ],
          "heatmap": [
           {
            "colorbar": {
             "outlinewidth": 0,
             "ticks": ""
            },
            "colorscale": [
             [
              0,
              "#0d0887"
             ],
             [
              0.1111111111111111,
              "#46039f"
             ],
             [
              0.2222222222222222,
              "#7201a8"
             ],
             [
              0.3333333333333333,
              "#9c179e"
             ],
             [
              0.4444444444444444,
              "#bd3786"
             ],
             [
              0.5555555555555556,
              "#d8576b"
             ],
             [
              0.6666666666666666,
              "#ed7953"
             ],
             [
              0.7777777777777778,
              "#fb9f3a"
             ],
             [
              0.8888888888888888,
              "#fdca26"
             ],
             [
              1,
              "#f0f921"
             ]
            ],
            "type": "heatmap"
           }
          ],
          "heatmapgl": [
           {
            "colorbar": {
             "outlinewidth": 0,
             "ticks": ""
            },
            "colorscale": [
             [
              0,
              "#0d0887"
             ],
             [
              0.1111111111111111,
              "#46039f"
             ],
             [
              0.2222222222222222,
              "#7201a8"
             ],
             [
              0.3333333333333333,
              "#9c179e"
             ],
             [
              0.4444444444444444,
              "#bd3786"
             ],
             [
              0.5555555555555556,
              "#d8576b"
             ],
             [
              0.6666666666666666,
              "#ed7953"
             ],
             [
              0.7777777777777778,
              "#fb9f3a"
             ],
             [
              0.8888888888888888,
              "#fdca26"
             ],
             [
              1,
              "#f0f921"
             ]
            ],
            "type": "heatmapgl"
           }
          ],
          "histogram": [
           {
            "marker": {
             "pattern": {
              "fillmode": "overlay",
              "size": 10,
              "solidity": 0.2
             }
            },
            "type": "histogram"
           }
          ],
          "histogram2d": [
           {
            "colorbar": {
             "outlinewidth": 0,
             "ticks": ""
            },
            "colorscale": [
             [
              0,
              "#0d0887"
             ],
             [
              0.1111111111111111,
              "#46039f"
             ],
             [
              0.2222222222222222,
              "#7201a8"
             ],
             [
              0.3333333333333333,
              "#9c179e"
             ],
             [
              0.4444444444444444,
              "#bd3786"
             ],
             [
              0.5555555555555556,
              "#d8576b"
             ],
             [
              0.6666666666666666,
              "#ed7953"
             ],
             [
              0.7777777777777778,
              "#fb9f3a"
             ],
             [
              0.8888888888888888,
              "#fdca26"
             ],
             [
              1,
              "#f0f921"
             ]
            ],
            "type": "histogram2d"
           }
          ],
          "histogram2dcontour": [
           {
            "colorbar": {
             "outlinewidth": 0,
             "ticks": ""
            },
            "colorscale": [
             [
              0,
              "#0d0887"
             ],
             [
              0.1111111111111111,
              "#46039f"
             ],
             [
              0.2222222222222222,
              "#7201a8"
             ],
             [
              0.3333333333333333,
              "#9c179e"
             ],
             [
              0.4444444444444444,
              "#bd3786"
             ],
             [
              0.5555555555555556,
              "#d8576b"
             ],
             [
              0.6666666666666666,
              "#ed7953"
             ],
             [
              0.7777777777777778,
              "#fb9f3a"
             ],
             [
              0.8888888888888888,
              "#fdca26"
             ],
             [
              1,
              "#f0f921"
             ]
            ],
            "type": "histogram2dcontour"
           }
          ],
          "mesh3d": [
           {
            "colorbar": {
             "outlinewidth": 0,
             "ticks": ""
            },
            "type": "mesh3d"
           }
          ],
          "parcoords": [
           {
            "line": {
             "colorbar": {
              "outlinewidth": 0,
              "ticks": ""
             }
            },
            "type": "parcoords"
           }
          ],
          "pie": [
           {
            "automargin": true,
            "type": "pie"
           }
          ],
          "scatter": [
           {
            "fillpattern": {
             "fillmode": "overlay",
             "size": 10,
             "solidity": 0.2
            },
            "type": "scatter"
           }
          ],
          "scatter3d": [
           {
            "line": {
             "colorbar": {
              "outlinewidth": 0,
              "ticks": ""
             }
            },
            "marker": {
             "colorbar": {
              "outlinewidth": 0,
              "ticks": ""
             }
            },
            "type": "scatter3d"
           }
          ],
          "scattercarpet": [
           {
            "marker": {
             "colorbar": {
              "outlinewidth": 0,
              "ticks": ""
             }
            },
            "type": "scattercarpet"
           }
          ],
          "scattergeo": [
           {
            "marker": {
             "colorbar": {
              "outlinewidth": 0,
              "ticks": ""
             }
            },
            "type": "scattergeo"
           }
          ],
          "scattergl": [
           {
            "marker": {
             "colorbar": {
              "outlinewidth": 0,
              "ticks": ""
             }
            },
            "type": "scattergl"
           }
          ],
          "scattermapbox": [
           {
            "marker": {
             "colorbar": {
              "outlinewidth": 0,
              "ticks": ""
             }
            },
            "type": "scattermapbox"
           }
          ],
          "scatterpolar": [
           {
            "marker": {
             "colorbar": {
              "outlinewidth": 0,
              "ticks": ""
             }
            },
            "type": "scatterpolar"
           }
          ],
          "scatterpolargl": [
           {
            "marker": {
             "colorbar": {
              "outlinewidth": 0,
              "ticks": ""
             }
            },
            "type": "scatterpolargl"
           }
          ],
          "scatterternary": [
           {
            "marker": {
             "colorbar": {
              "outlinewidth": 0,
              "ticks": ""
             }
            },
            "type": "scatterternary"
           }
          ],
          "surface": [
           {
            "colorbar": {
             "outlinewidth": 0,
             "ticks": ""
            },
            "colorscale": [
             [
              0,
              "#0d0887"
             ],
             [
              0.1111111111111111,
              "#46039f"
             ],
             [
              0.2222222222222222,
              "#7201a8"
             ],
             [
              0.3333333333333333,
              "#9c179e"
             ],
             [
              0.4444444444444444,
              "#bd3786"
             ],
             [
              0.5555555555555556,
              "#d8576b"
             ],
             [
              0.6666666666666666,
              "#ed7953"
             ],
             [
              0.7777777777777778,
              "#fb9f3a"
             ],
             [
              0.8888888888888888,
              "#fdca26"
             ],
             [
              1,
              "#f0f921"
             ]
            ],
            "type": "surface"
           }
          ],
          "table": [
           {
            "cells": {
             "fill": {
              "color": "#EBF0F8"
             },
             "line": {
              "color": "white"
             }
            },
            "header": {
             "fill": {
              "color": "#C8D4E3"
             },
             "line": {
              "color": "white"
             }
            },
            "type": "table"
           }
          ]
         },
         "layout": {
          "annotationdefaults": {
           "arrowcolor": "#2a3f5f",
           "arrowhead": 0,
           "arrowwidth": 1
          },
          "autotypenumbers": "strict",
          "coloraxis": {
           "colorbar": {
            "outlinewidth": 0,
            "ticks": ""
           }
          },
          "colorscale": {
           "diverging": [
            [
             0,
             "#8e0152"
            ],
            [
             0.1,
             "#c51b7d"
            ],
            [
             0.2,
             "#de77ae"
            ],
            [
             0.3,
             "#f1b6da"
            ],
            [
             0.4,
             "#fde0ef"
            ],
            [
             0.5,
             "#f7f7f7"
            ],
            [
             0.6,
             "#e6f5d0"
            ],
            [
             0.7,
             "#b8e186"
            ],
            [
             0.8,
             "#7fbc41"
            ],
            [
             0.9,
             "#4d9221"
            ],
            [
             1,
             "#276419"
            ]
           ],
           "sequential": [
            [
             0,
             "#0d0887"
            ],
            [
             0.1111111111111111,
             "#46039f"
            ],
            [
             0.2222222222222222,
             "#7201a8"
            ],
            [
             0.3333333333333333,
             "#9c179e"
            ],
            [
             0.4444444444444444,
             "#bd3786"
            ],
            [
             0.5555555555555556,
             "#d8576b"
            ],
            [
             0.6666666666666666,
             "#ed7953"
            ],
            [
             0.7777777777777778,
             "#fb9f3a"
            ],
            [
             0.8888888888888888,
             "#fdca26"
            ],
            [
             1,
             "#f0f921"
            ]
           ],
           "sequentialminus": [
            [
             0,
             "#0d0887"
            ],
            [
             0.1111111111111111,
             "#46039f"
            ],
            [
             0.2222222222222222,
             "#7201a8"
            ],
            [
             0.3333333333333333,
             "#9c179e"
            ],
            [
             0.4444444444444444,
             "#bd3786"
            ],
            [
             0.5555555555555556,
             "#d8576b"
            ],
            [
             0.6666666666666666,
             "#ed7953"
            ],
            [
             0.7777777777777778,
             "#fb9f3a"
            ],
            [
             0.8888888888888888,
             "#fdca26"
            ],
            [
             1,
             "#f0f921"
            ]
           ]
          },
          "colorway": [
           "#636efa",
           "#EF553B",
           "#00cc96",
           "#ab63fa",
           "#FFA15A",
           "#19d3f3",
           "#FF6692",
           "#B6E880",
           "#FF97FF",
           "#FECB52"
          ],
          "font": {
           "color": "#2a3f5f"
          },
          "geo": {
           "bgcolor": "white",
           "lakecolor": "white",
           "landcolor": "#E5ECF6",
           "showlakes": true,
           "showland": true,
           "subunitcolor": "white"
          },
          "hoverlabel": {
           "align": "left"
          },
          "hovermode": "closest",
          "mapbox": {
           "style": "light"
          },
          "paper_bgcolor": "white",
          "plot_bgcolor": "#E5ECF6",
          "polar": {
           "angularaxis": {
            "gridcolor": "white",
            "linecolor": "white",
            "ticks": ""
           },
           "bgcolor": "#E5ECF6",
           "radialaxis": {
            "gridcolor": "white",
            "linecolor": "white",
            "ticks": ""
           }
          },
          "scene": {
           "xaxis": {
            "backgroundcolor": "#E5ECF6",
            "gridcolor": "white",
            "gridwidth": 2,
            "linecolor": "white",
            "showbackground": true,
            "ticks": "",
            "zerolinecolor": "white"
           },
           "yaxis": {
            "backgroundcolor": "#E5ECF6",
            "gridcolor": "white",
            "gridwidth": 2,
            "linecolor": "white",
            "showbackground": true,
            "ticks": "",
            "zerolinecolor": "white"
           },
           "zaxis": {
            "backgroundcolor": "#E5ECF6",
            "gridcolor": "white",
            "gridwidth": 2,
            "linecolor": "white",
            "showbackground": true,
            "ticks": "",
            "zerolinecolor": "white"
           }
          },
          "shapedefaults": {
           "line": {
            "color": "#2a3f5f"
           }
          },
          "ternary": {
           "aaxis": {
            "gridcolor": "white",
            "linecolor": "white",
            "ticks": ""
           },
           "baxis": {
            "gridcolor": "white",
            "linecolor": "white",
            "ticks": ""
           },
           "bgcolor": "#E5ECF6",
           "caxis": {
            "gridcolor": "white",
            "linecolor": "white",
            "ticks": ""
           }
          },
          "title": {
           "x": 0.05
          },
          "xaxis": {
           "automargin": true,
           "gridcolor": "white",
           "linecolor": "white",
           "ticks": "",
           "title": {
            "standoff": 15
           },
           "zerolinecolor": "white",
           "zerolinewidth": 2
          },
          "yaxis": {
           "automargin": true,
           "gridcolor": "white",
           "linecolor": "white",
           "ticks": "",
           "title": {
            "standoff": 15
           },
           "zerolinecolor": "white",
           "zerolinewidth": 2
          }
         }
        },
        "width": 1000,
        "xaxis": {
         "anchor": "y",
         "domain": [
          0,
          1
         ],
         "showticklabels": true,
         "tickfont": {
          "size": 15
         },
         "title": {
          "text": ""
         }
        },
        "yaxis": {
         "anchor": "x",
         "domain": [
          0,
          1
         ],
         "showticklabels": false,
         "title": {
          "text": ""
         }
        }
       }
      }
     },
     "metadata": {},
     "output_type": "display_data"
    }
   ],
   "source": [
    "des_filiado_20_21['data_filiacao'] = pd.to_datetime(des_filiado_20_21['data_filiacao'], format='%Y-%m-%d')\n",
    "des_filiado_20_21['data_desfiliacao'] = pd.to_datetime(des_filiado_20_21['data_desfiliacao'], format='%Y-%m-%d')\n",
    "\n",
    "des_filiado_20_21['mes_desfiliacao'] = des_filiado_20_21['data_desfiliacao'].dt.to_period('M')\n",
    "des_filiado_20_21['mes_desfiliacao'] = des_filiado_20_21['mes_desfiliacao'].astype(str)\n",
    "\n",
    "flt = des_filiado_20_21['sigla_partido'] == 'PSL'\n",
    "\n",
    "desfiliacao_PSL = des_filiado_20_21[flt].groupby('mes_desfiliacao')['mes_desfiliacao'].count().reset_index(name='count').sort_values(['mes_desfiliacao'], ascending=True)\n",
    "\n",
    "fig = px.bar(desfiliacao_PSL.tail(10).round(2),  \n",
    "             x = 'mes_desfiliacao', \n",
    "             y = 'count',\n",
    "             barmode = 'group',\n",
    "             text = 'count',\n",
    "             color_discrete_sequence=['rgb(67,133,197)'],\n",
    "             labels = {'count': '', 'mes_desfiliacao': ''})\n",
    "\n",
    "fig.update_yaxes(showticklabels = False)\n",
    "fig.update_xaxes(showticklabels = True, tickfont = {'size': 15})\n",
    "fig.update_layout(width = 1000, height = 500, plot_bgcolor = 'white', paper_bgcolor = 'white')\n",
    "fig.update_traces(texttemplate='%{text:}', textposition='outside', textfont = {'color': 'black', 'size': 15})\n",
    "fig.show()\n",
    "\n",
    "fig.write_image(\"viz/n_desfiliado_PSL_mes.png\")"
   ]
  },
  {
   "cell_type": "code",
   "execution_count": 148,
   "metadata": {},
   "outputs": [
    {
     "data": {
      "text/html": [
       "<div>\n",
       "<style scoped>\n",
       "    .dataframe tbody tr th:only-of-type {\n",
       "        vertical-align: middle;\n",
       "    }\n",
       "\n",
       "    .dataframe tbody tr th {\n",
       "        vertical-align: top;\n",
       "    }\n",
       "\n",
       "    .dataframe thead th {\n",
       "        text-align: right;\n",
       "    }\n",
       "</style>\n",
       "<table border=\"1\" class=\"dataframe\">\n",
       "  <thead>\n",
       "    <tr style=\"text-align: right;\">\n",
       "      <th></th>\n",
       "      <th>id_municipio</th>\n",
       "      <th>titulo_eleitoral</th>\n",
       "      <th>sigla_partido</th>\n",
       "      <th>data_filiacao</th>\n",
       "      <th>data_desfiliacao</th>\n",
       "      <th>motivo_cancelamento</th>\n",
       "      <th>mes_desfiliacao</th>\n",
       "    </tr>\n",
       "  </thead>\n",
       "  <tbody>\n",
       "    <tr>\n",
       "      <th>912</th>\n",
       "      <td>3304557</td>\n",
       "      <td>080804680337</td>\n",
       "      <td>PSL</td>\n",
       "      <td>2020-01-20</td>\n",
       "      <td>2021-04-08</td>\n",
       "      <td>None</td>\n",
       "      <td>2021-04</td>\n",
       "    </tr>\n",
       "    <tr>\n",
       "      <th>916</th>\n",
       "      <td>3304557</td>\n",
       "      <td>078051020396</td>\n",
       "      <td>PSL</td>\n",
       "      <td>2020-01-17</td>\n",
       "      <td>2021-04-09</td>\n",
       "      <td>None</td>\n",
       "      <td>2021-04</td>\n",
       "    </tr>\n",
       "    <tr>\n",
       "      <th>922</th>\n",
       "      <td>3304557</td>\n",
       "      <td>004646620329</td>\n",
       "      <td>PSL</td>\n",
       "      <td>2020-03-27</td>\n",
       "      <td>2021-04-09</td>\n",
       "      <td>None</td>\n",
       "      <td>2021-04</td>\n",
       "    </tr>\n",
       "    <tr>\n",
       "      <th>926</th>\n",
       "      <td>3304557</td>\n",
       "      <td>017286250353</td>\n",
       "      <td>PSL</td>\n",
       "      <td>2020-03-15</td>\n",
       "      <td>2021-04-05</td>\n",
       "      <td>None</td>\n",
       "      <td>2021-04</td>\n",
       "    </tr>\n",
       "    <tr>\n",
       "      <th>942</th>\n",
       "      <td>3304557</td>\n",
       "      <td>089463240329</td>\n",
       "      <td>PSL</td>\n",
       "      <td>2020-03-30</td>\n",
       "      <td>2020-09-25</td>\n",
       "      <td>A PEDIDO DO ELEITOR</td>\n",
       "      <td>2020-09</td>\n",
       "    </tr>\n",
       "    <tr>\n",
       "      <th>...</th>\n",
       "      <td>...</td>\n",
       "      <td>...</td>\n",
       "      <td>...</td>\n",
       "      <td>...</td>\n",
       "      <td>...</td>\n",
       "      <td>...</td>\n",
       "      <td>...</td>\n",
       "    </tr>\n",
       "    <tr>\n",
       "      <th>442156</th>\n",
       "      <td>3304557</td>\n",
       "      <td>078341320396</td>\n",
       "      <td>PSL</td>\n",
       "      <td>2020-01-17</td>\n",
       "      <td>2021-04-09</td>\n",
       "      <td>None</td>\n",
       "      <td>2021-04</td>\n",
       "    </tr>\n",
       "    <tr>\n",
       "      <th>442157</th>\n",
       "      <td>3304557</td>\n",
       "      <td>121211690302</td>\n",
       "      <td>PSL</td>\n",
       "      <td>2020-01-25</td>\n",
       "      <td>2021-04-07</td>\n",
       "      <td>None</td>\n",
       "      <td>2021-04</td>\n",
       "    </tr>\n",
       "    <tr>\n",
       "      <th>442164</th>\n",
       "      <td>3304557</td>\n",
       "      <td>097638720329</td>\n",
       "      <td>PSL</td>\n",
       "      <td>2020-03-16</td>\n",
       "      <td>2021-04-09</td>\n",
       "      <td>None</td>\n",
       "      <td>2021-04</td>\n",
       "    </tr>\n",
       "    <tr>\n",
       "      <th>442166</th>\n",
       "      <td>3304557</td>\n",
       "      <td>082126000337</td>\n",
       "      <td>PSL</td>\n",
       "      <td>2020-03-31</td>\n",
       "      <td>2021-04-08</td>\n",
       "      <td>None</td>\n",
       "      <td>2021-04</td>\n",
       "    </tr>\n",
       "    <tr>\n",
       "      <th>442463</th>\n",
       "      <td>3304557</td>\n",
       "      <td>014715250329</td>\n",
       "      <td>PSB</td>\n",
       "      <td>2020-03-25</td>\n",
       "      <td>2020-09-14</td>\n",
       "      <td>None</td>\n",
       "      <td>2020-09</td>\n",
       "    </tr>\n",
       "  </tbody>\n",
       "</table>\n",
       "<p>2028 rows × 7 columns</p>\n",
       "</div>"
      ],
      "text/plain": [
       "       id_municipio titulo_eleitoral sigla_partido data_filiacao  \\\n",
       "912         3304557     080804680337           PSL    2020-01-20   \n",
       "916         3304557     078051020396           PSL    2020-01-17   \n",
       "922         3304557     004646620329           PSL    2020-03-27   \n",
       "926         3304557     017286250353           PSL    2020-03-15   \n",
       "942         3304557     089463240329           PSL    2020-03-30   \n",
       "...             ...              ...           ...           ...   \n",
       "442156      3304557     078341320396           PSL    2020-01-17   \n",
       "442157      3304557     121211690302           PSL    2020-01-25   \n",
       "442164      3304557     097638720329           PSL    2020-03-16   \n",
       "442166      3304557     082126000337           PSL    2020-03-31   \n",
       "442463      3304557     014715250329           PSB    2020-03-25   \n",
       "\n",
       "       data_desfiliacao  motivo_cancelamento mes_desfiliacao  \n",
       "912          2021-04-08                 None         2021-04  \n",
       "916          2021-04-09                 None         2021-04  \n",
       "922          2021-04-09                 None         2021-04  \n",
       "926          2021-04-05                 None         2021-04  \n",
       "942          2020-09-25  A PEDIDO DO ELEITOR         2020-09  \n",
       "...                 ...                  ...             ...  \n",
       "442156       2021-04-09                 None         2021-04  \n",
       "442157       2021-04-07                 None         2021-04  \n",
       "442164       2021-04-09                 None         2021-04  \n",
       "442166       2021-04-08                 None         2021-04  \n",
       "442463       2020-09-14                 None         2020-09  \n",
       "\n",
       "[2028 rows x 7 columns]"
      ]
     },
     "execution_count": 148,
     "metadata": {},
     "output_type": "execute_result"
    }
   ],
   "source": [
    "des_filiado_20_21"
   ]
  }
 ],
 "metadata": {
  "kernelspec": {
   "display_name": "Python 3",
   "language": "python",
   "name": "python3"
  },
  "language_info": {
   "codemirror_mode": {
    "name": "ipython",
    "version": 3
   },
   "file_extension": ".py",
   "mimetype": "text/x-python",
   "name": "python",
   "nbconvert_exporter": "python",
   "pygments_lexer": "ipython3",
   "version": "3.10.6"
  },
  "orig_nbformat": 4,
  "vscode": {
   "interpreter": {
    "hash": "916dbcbb3f70747c44a77c7bcd40155683ae19c65e1c03b4aa3499c5328201f1"
   }
  }
 },
 "nbformat": 4,
 "nbformat_minor": 2
}
